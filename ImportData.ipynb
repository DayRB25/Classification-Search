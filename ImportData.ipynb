{
 "cells": [
  {
   "cell_type": "code",
   "execution_count": 3,
   "metadata": {},
   "outputs": [],
   "source": [
    "import tarfile\n",
    "rxnsmiles = {'train': None, 'valid': None, 'test': None}\n",
    "\n",
    "for key in rxnsmiles.keys():\n",
    "    tar = tarfile.open(\"{}.txt.tar.gz\".format(key), \"r:gz\")\n",
    "    for member in tar.getmembers():\n",
    "        f = tar.extractfile(member)\n",
    "        if f is not None:\n",
    "            lines = str(f.read()).split('\\\\n')\n",
    "            rxnsmiles[key] = [line.split()[0] for line in lines][:-1]"
   ]
  },
  {
   "cell_type": "code",
   "execution_count": 4,
   "metadata": {},
   "outputs": [
    {
     "name": "stdout",
     "output_type": "stream",
     "text": [
      "train: 409035 examples\n",
      "valid: 30000 examples\n",
      "test: 40000 examples\n"
     ]
    }
   ],
   "source": [
    "for key in rxnsmiles:\n",
    "    print('{}: {} examples'.format(key, len(rxnsmiles[key])))"
   ]
  },
  {
   "cell_type": "markdown",
   "metadata": {},
   "source": [
    "Reactant and product SMILES separated by \">>\""
   ]
  }
 ],
 "metadata": {
  "kernelspec": {
   "display_name": "Python 3",
   "language": "python",
   "name": "python3"
  },
  "language_info": {
   "codemirror_mode": {
    "name": "ipython",
    "version": 3
   },
   "file_extension": ".py",
   "mimetype": "text/x-python",
   "name": "python",
   "nbconvert_exporter": "python",
   "pygments_lexer": "ipython3",
   "version": "3.7.6"
  }
 },
 "nbformat": 4,
 "nbformat_minor": 4
}
